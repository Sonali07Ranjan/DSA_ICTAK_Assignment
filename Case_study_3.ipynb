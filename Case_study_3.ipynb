{
 "cells": [
  {
   "cell_type": "markdown",
   "id": "f528bfb4",
   "metadata": {},
   "source": [
    "A company started to invest in digital marketing as a new way of their product\n",
    "promotions.For that they collected data and decided to carry out a study on it.\n",
    "\n",
    "1) The company wishes to clarify whether there is any increase in sales after\n",
    "stepping into digital marketing."
   ]
  },
  {
   "cell_type": "code",
   "execution_count": 2,
   "id": "95e39e14",
   "metadata": {},
   "outputs": [
    {
     "data": {
      "text/html": [
       "<div>\n",
       "<style scoped>\n",
       "    .dataframe tbody tr th:only-of-type {\n",
       "        vertical-align: middle;\n",
       "    }\n",
       "\n",
       "    .dataframe tbody tr th {\n",
       "        vertical-align: top;\n",
       "    }\n",
       "\n",
       "    .dataframe thead th {\n",
       "        text-align: right;\n",
       "    }\n",
       "</style>\n",
       "<table border=\"1\" class=\"dataframe\">\n",
       "  <thead>\n",
       "    <tr style=\"text-align: right;\">\n",
       "      <th></th>\n",
       "      <th>Month</th>\n",
       "      <th>Region</th>\n",
       "      <th>Manager</th>\n",
       "      <th>Sales_before_digital_add(in $)</th>\n",
       "      <th>Sales_After_digital_add(in $)</th>\n",
       "    </tr>\n",
       "  </thead>\n",
       "  <tbody>\n",
       "    <tr>\n",
       "      <th>0</th>\n",
       "      <td>Month-1</td>\n",
       "      <td>Region - A</td>\n",
       "      <td>Manager - A</td>\n",
       "      <td>132921</td>\n",
       "      <td>270390</td>\n",
       "    </tr>\n",
       "    <tr>\n",
       "      <th>1</th>\n",
       "      <td>Month-2</td>\n",
       "      <td>Region - A</td>\n",
       "      <td>Manager - C</td>\n",
       "      <td>149559</td>\n",
       "      <td>223334</td>\n",
       "    </tr>\n",
       "    <tr>\n",
       "      <th>2</th>\n",
       "      <td>Month-3</td>\n",
       "      <td>Region - B</td>\n",
       "      <td>Manager - A</td>\n",
       "      <td>146278</td>\n",
       "      <td>244243</td>\n",
       "    </tr>\n",
       "    <tr>\n",
       "      <th>3</th>\n",
       "      <td>Month-4</td>\n",
       "      <td>Region - B</td>\n",
       "      <td>Manager - B</td>\n",
       "      <td>152167</td>\n",
       "      <td>231808</td>\n",
       "    </tr>\n",
       "    <tr>\n",
       "      <th>4</th>\n",
       "      <td>Month-5</td>\n",
       "      <td>Region - C</td>\n",
       "      <td>Manager - B</td>\n",
       "      <td>159525</td>\n",
       "      <td>258402</td>\n",
       "    </tr>\n",
       "  </tbody>\n",
       "</table>\n",
       "</div>"
      ],
      "text/plain": [
       "     Month      Region      Manager  Sales_before_digital_add(in $)  \\\n",
       "0  Month-1  Region - A  Manager - A                          132921   \n",
       "1  Month-2  Region - A  Manager - C                          149559   \n",
       "2  Month-3  Region - B  Manager - A                          146278   \n",
       "3  Month-4  Region - B  Manager - B                          152167   \n",
       "4  Month-5  Region - C  Manager - B                          159525   \n",
       "\n",
       "   Sales_After_digital_add(in $)  \n",
       "0                         270390  \n",
       "1                         223334  \n",
       "2                         244243  \n",
       "3                         231808  \n",
       "4                         258402  "
      ]
     },
     "execution_count": 2,
     "metadata": {},
     "output_type": "execute_result"
    }
   ],
   "source": [
    "import pandas as pd\n",
    "df=pd.read_csv('Sales_add.csv')\n",
    "df.head()"
   ]
  },
  {
   "cell_type": "markdown",
   "id": "522c264e",
   "metadata": {},
   "source": [
    "### 1) One tailed Paired T Test"
   ]
  },
  {
   "cell_type": "code",
   "execution_count": 8,
   "id": "703022e5",
   "metadata": {},
   "outputs": [],
   "source": [
    "# Null hypothesis: There is no significant difference in sales after stepping into digital marketing\n",
    "# Alternate hypothesis: There is significant increase in sales after stepping into digital marketing\n",
    "alpha=0.05 # represents the default 5% significance level"
   ]
  },
  {
   "cell_type": "code",
   "execution_count": 5,
   "id": "b876d9d4",
   "metadata": {},
   "outputs": [
    {
     "data": {
      "text/plain": [
       "22"
      ]
     },
     "execution_count": 5,
     "metadata": {},
     "output_type": "execute_result"
    }
   ],
   "source": [
    "n1=len(df) # sample-size\n",
    "n1"
   ]
  },
  {
   "cell_type": "code",
   "execution_count": 6,
   "id": "13586467",
   "metadata": {},
   "outputs": [
    {
     "data": {
      "text/plain": [
       "21"
      ]
     },
     "execution_count": 6,
     "metadata": {},
     "output_type": "execute_result"
    }
   ],
   "source": [
    "dof1=n1-1 # degrees of freedom\n",
    "dof1"
   ]
  },
  {
   "cell_type": "code",
   "execution_count": 7,
   "id": "1459bdf0",
   "metadata": {},
   "outputs": [],
   "source": [
    "from scipy.stats import ttest_rel, t"
   ]
  },
  {
   "cell_type": "code",
   "execution_count": 10,
   "id": "c2407ee6",
   "metadata": {},
   "outputs": [
    {
     "data": {
      "text/plain": [
       "1.7207429028118775"
      ]
     },
     "execution_count": 10,
     "metadata": {},
     "output_type": "execute_result"
    }
   ],
   "source": [
    "t_critical=t.ppf(q=1-alpha, df=dof1) # finds critical t value for right-tailed test\n",
    "t_critical"
   ]
  },
  {
   "cell_type": "code",
   "execution_count": 12,
   "id": "6bc80dfd",
   "metadata": {},
   "outputs": [
    {
     "data": {
      "text/plain": [
       "(12.09070525287017, 3.168333502287889e-11)"
      ]
     },
     "execution_count": 12,
     "metadata": {},
     "output_type": "execute_result"
    }
   ],
   "source": [
    "t_statistic, pval1=ttest_rel(df['Sales_After_digital_add(in $)'],\n",
    "                             df['Sales_before_digital_add(in $)'],\n",
    "                             alternative='greater') # finds t-statistic and p-value for right-tailed t test\n",
    "t_statistic, pval1"
   ]
  },
  {
   "cell_type": "code",
   "execution_count": 20,
   "id": "ff4110cc",
   "metadata": {},
   "outputs": [
    {
     "name": "stdout",
     "output_type": "stream",
     "text": [
      "\u001b[1mConclusion based on p-value \u001b[0m\n",
      "\n",
      "The null hypothesis is rejected. \n",
      "Thereby the alternate hypothesis which states that there is significant increase in sales after stepping into digital marketing can be accepted\n",
      "\n",
      "\n",
      "\u001b[1mConclusion based on t-statistic\u001b[0m\n",
      "\n",
      "The null hypothesis is rejected. \n",
      "Thereby the alternate hypothesis which states that there is significant increase in sales after stepping into digital marketing can be accepted\n"
     ]
    }
   ],
   "source": [
    "print(\"\\033[1mConclusion based on p-value \\033[0m\\n\") \n",
    "if(pval1<=alpha):\n",
    "    print(\"The null hypothesis is rejected. \\nThereby the alternate hypothesis which states that there is significant increase in sales after stepping into digital marketing can be accepted\\n\\n\")\n",
    "else:\n",
    "    print(\"Failed to reject the null hypothesis that there is any significant difference in sales after stepping into digital marketing\\n\\n\")\n",
    "\n",
    "print(\"\\033[1mConclusion based on t-statistic\\033[0m\\n\") \n",
    "if(t_statistic>t_critical):\n",
    "    print(\"The null hypothesis is rejected. \\nThereby the alternate hypothesis which states that there is significant increase in sales after stepping into digital marketing can be accepted\")\n",
    "else:\n",
    "    print(\"Failed to reject the null hypothesis that there is any significant difference in sales after stepping into digital marketing\")"
   ]
  },
  {
   "cell_type": "markdown",
   "id": "fddfc529",
   "metadata": {},
   "source": [
    "Based on both p-value and t-statistic we can conclude that the null hypothesis is rejected and the alternate hypothesis \n",
    "which states that there is significant increase in sales after stepping into digital marketing can be accepted"
   ]
  },
  {
   "cell_type": "markdown",
   "id": "ad21c4a6",
   "metadata": {},
   "source": [
    "### 2) Chi-Square test"
   ]
  },
  {
   "cell_type": "markdown",
   "id": "b3c4fa22",
   "metadata": {},
   "source": [
    "The company needs to check whether there is any dependency between the features “Region” and “Manager”."
   ]
  },
  {
   "cell_type": "code",
   "execution_count": 23,
   "id": "ebf6fccd",
   "metadata": {},
   "outputs": [],
   "source": [
    "# Null Hypothesis: There is no dependency between features Region and Manager\n",
    "# ALternate Hypothesis: There is dependency between features Region and Manager"
   ]
  },
  {
   "cell_type": "code",
   "execution_count": 24,
   "id": "ee8475c9",
   "metadata": {},
   "outputs": [
    {
     "data": {
      "text/html": [
       "<div>\n",
       "<style scoped>\n",
       "    .dataframe tbody tr th:only-of-type {\n",
       "        vertical-align: middle;\n",
       "    }\n",
       "\n",
       "    .dataframe tbody tr th {\n",
       "        vertical-align: top;\n",
       "    }\n",
       "\n",
       "    .dataframe thead th {\n",
       "        text-align: right;\n",
       "    }\n",
       "</style>\n",
       "<table border=\"1\" class=\"dataframe\">\n",
       "  <thead>\n",
       "    <tr style=\"text-align: right;\">\n",
       "      <th>Manager</th>\n",
       "      <th>Manager - A</th>\n",
       "      <th>Manager - B</th>\n",
       "      <th>Manager - C</th>\n",
       "    </tr>\n",
       "    <tr>\n",
       "      <th>Region</th>\n",
       "      <th></th>\n",
       "      <th></th>\n",
       "      <th></th>\n",
       "    </tr>\n",
       "  </thead>\n",
       "  <tbody>\n",
       "    <tr>\n",
       "      <th>Region - A</th>\n",
       "      <td>4</td>\n",
       "      <td>3</td>\n",
       "      <td>3</td>\n",
       "    </tr>\n",
       "    <tr>\n",
       "      <th>Region - B</th>\n",
       "      <td>4</td>\n",
       "      <td>1</td>\n",
       "      <td>2</td>\n",
       "    </tr>\n",
       "    <tr>\n",
       "      <th>Region - C</th>\n",
       "      <td>1</td>\n",
       "      <td>3</td>\n",
       "      <td>1</td>\n",
       "    </tr>\n",
       "  </tbody>\n",
       "</table>\n",
       "</div>"
      ],
      "text/plain": [
       "Manager     Manager - A  Manager - B  Manager - C\n",
       "Region                                           \n",
       "Region - A            4            3            3\n",
       "Region - B            4            1            2\n",
       "Region - C            1            3            1"
      ]
     },
     "execution_count": 24,
     "metadata": {},
     "output_type": "execute_result"
    }
   ],
   "source": [
    "from scipy.stats import chi2_contingency, chi2\n",
    "cross_table=pd.crosstab(df['Region'],df['Manager']) # creates a cross table based on the provided inputs\n",
    "cross_table"
   ]
  },
  {
   "cell_type": "code",
   "execution_count": 25,
   "id": "bfd51b1e",
   "metadata": {},
   "outputs": [
    {
     "data": {
      "text/plain": [
       "(3.050566893424036,\n",
       " 0.5493991051158094,\n",
       " 4,\n",
       " array([[4.09090909, 3.18181818, 2.72727273],\n",
       "        [2.86363636, 2.22727273, 1.90909091],\n",
       "        [2.04545455, 1.59090909, 1.36363636]]))"
      ]
     },
     "execution_count": 25,
     "metadata": {},
     "output_type": "execute_result"
    }
   ],
   "source": [
    "chi2_val, pval2, dof2, exp_val = chi2_contingency(cross_table) # finds chisquare value, p-value, degrees of freedom & expected values \n",
    "chi2_val, pval2, dof2, exp_val"
   ]
  },
  {
   "cell_type": "code",
   "execution_count": 26,
   "id": "59fc3dc8",
   "metadata": {},
   "outputs": [
    {
     "data": {
      "text/plain": [
       "9.487729036781154"
      ]
     },
     "execution_count": 26,
     "metadata": {},
     "output_type": "execute_result"
    }
   ],
   "source": [
    "# finding critical chi-square value\n",
    "chi_critical=chi2.ppf(q=1-alpha, df=dof2)\n",
    "chi_critical"
   ]
  },
  {
   "cell_type": "code",
   "execution_count": 27,
   "id": "03c9dc28",
   "metadata": {},
   "outputs": [
    {
     "name": "stdout",
     "output_type": "stream",
     "text": [
      "\u001b[1mConclusion based on p-value \u001b[0m\n",
      "\n",
      "Failed to reject the null hypothesis which concludes there is no dependency between features Region and Manager\n",
      "\n",
      "\n",
      "\u001b[1mConclusion based on chisquare-statistic\u001b[0m\n",
      "\n",
      "Failed to reject the null hypothesis which concludes there is no dependency between features Region and Manager\n"
     ]
    }
   ],
   "source": [
    "print(\"\\033[1mConclusion based on p-value \\033[0m\\n\") \n",
    "if(pval2<=alpha):\n",
    "    print(\"The null hypothesis is rejected. \\nThereby the alternate hypothesis which states that there is dependence between Region and Manager features can be accepted\\n\\n\")\n",
    "else:\n",
    "    print(\"Failed to reject the null hypothesis which concludes there is no dependency between features Region and Manager\\n\\n\")\n",
    "\n",
    "print(\"\\033[1mConclusion based on chisquare-statistic\\033[0m\\n\") \n",
    "if(chi2_val>chi_critical):\n",
    "    print(\"The null hypothesis is rejected. \\nThereby the alternate hypothesis which states that there is dependence between Region and Manager features can be accepted\")\n",
    "else:\n",
    "    print(\"Failed to reject the null hypothesis which concludes there is no dependency between features Region and Manager\")"
   ]
  },
  {
   "cell_type": "markdown",
   "id": "c13f35a6",
   "metadata": {},
   "source": [
    "Based on both p-value and chisquare-value we fail to reject the null hypothesis which concludes that there is no dependency between the features \"Region\" and \"Manager\""
   ]
  },
  {
   "cell_type": "code",
   "execution_count": null,
   "id": "cf867634",
   "metadata": {},
   "outputs": [],
   "source": []
  }
 ],
 "metadata": {
  "kernelspec": {
   "display_name": "Python 3 (ipykernel)",
   "language": "python",
   "name": "python3"
  },
  "language_info": {
   "codemirror_mode": {
    "name": "ipython",
    "version": 3
   },
   "file_extension": ".py",
   "mimetype": "text/x-python",
   "name": "python",
   "nbconvert_exporter": "python",
   "pygments_lexer": "ipython3",
   "version": "3.9.7"
  }
 },
 "nbformat": 4,
 "nbformat_minor": 5
}
